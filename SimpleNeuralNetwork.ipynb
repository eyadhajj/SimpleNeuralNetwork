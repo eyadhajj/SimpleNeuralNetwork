{
  "nbformat": 4,
  "nbformat_minor": 0,
  "metadata": {
    "colab": {
      "provenance": []
    },
    "kernelspec": {
      "name": "python3",
      "display_name": "Python 3"
    },
    "language_info": {
      "name": "python"
    }
  },
  "cells": [
    {
      "cell_type": "markdown",
      "source": [
        "# Simple Neural Network\n"
      ],
      "metadata": {
        "id": "rWAFFXejxtHR"
      }
    },
    {
      "cell_type": "code",
      "execution_count": 3,
      "metadata": {
        "id": "zzPfMhxakj8K"
      },
      "outputs": [],
      "source": [
        "import numpy as np"
      ]
    },
    {
      "cell_type": "markdown",
      "source": [
        "The sigmoid function is like an activation function in an individual neuron."
      ],
      "metadata": {
        "id": "koWY6KdJx2MQ"
      }
    },
    {
      "cell_type": "code",
      "source": [
        "def sigmoid(x):\n",
        "  return 1/ (1 + np.exp(-x))\n",
        "\n",
        "#derivative of sigmoid function.\n",
        "def sigmoid_derivative(x):\n",
        "  return (x * ( 1 - x ))"
      ],
      "metadata": {
        "id": "FwjldjFUkrbf"
      },
      "execution_count": 4,
      "outputs": []
    },
    {
      "cell_type": "markdown",
      "source": [
        "This is the data we are going to use to train the nerual network."
      ],
      "metadata": {
        "id": "IkMHPJK1ks6b"
      }
    },
    {
      "cell_type": "code",
      "source": [
        "training_inputs = np.array([[0,0,1],\n",
        "                            [1,1,1],\n",
        "                            [1,0,1],\n",
        "                            [0,1,1]\n",
        "                            ])\n",
        "\n",
        "training_outputs = np.array([[0, 1, 1, 0]]).T"
      ],
      "metadata": {
        "id": "CoBdnyyLk5mX"
      },
      "execution_count": 5,
      "outputs": []
    },
    {
      "cell_type": "markdown",
      "source": [
        "Random seed we are going to use (easier for debugging and whatnot)"
      ],
      "metadata": {
        "id": "31kKa6PFk2vk"
      }
    },
    {
      "cell_type": "code",
      "source": [
        "np.random.seed(1)"
      ],
      "metadata": {
        "id": "2bWE0EDblcHq"
      },
      "execution_count": 6,
      "outputs": []
    },
    {
      "cell_type": "markdown",
      "source": [
        "Synaptic weights"
      ],
      "metadata": {
        "id": "m25NczbRk-xi"
      }
    },
    {
      "cell_type": "code",
      "source": [
        "synaptic_weights = 2 * np.random.random((3, 1)) - 1\n",
        "\n",
        "print(\"Random starting synaptoc weights: \")\n",
        "print(synaptic_weights)"
      ],
      "metadata": {
        "colab": {
          "base_uri": "https://localhost:8080/"
        },
        "id": "t7BHb-6hnBjb",
        "outputId": "92fb392d-ec5a-412a-d82d-bddcb723f81f"
      },
      "execution_count": 7,
      "outputs": [
        {
          "output_type": "stream",
          "name": "stdout",
          "text": [
            "Random starting synaptoc weights: \n",
            "[[-0.16595599]\n",
            " [ 0.44064899]\n",
            " [-0.99977125]]\n"
          ]
        }
      ]
    },
    {
      "cell_type": "markdown",
      "source": [
        "This loop will iterate as much as we decide for it to learn/train itself with the data we gave it."
      ],
      "metadata": {
        "id": "HRQQB3SClKr0"
      }
    },
    {
      "cell_type": "code",
      "source": [
        "for iteration in range(100000):\n",
        "  input_layer = training_inputs\n",
        "  outputs = sigmoid(np.dot(input_layer, synaptic_weights))\n",
        "\n",
        " # We can adjust the synaptic weights based off the errors of each iteration.\n",
        "  error = training_outputs - outputs\n",
        "\n",
        "  adjustments = np.dot(input_layer.T, error * sigmoid_derivative(outputs))\n",
        "\n",
        "  synaptic_weights += adjustments\n",
        "\n",
        "print(f'Synaptic weights after training: {synaptic_weights}')\n",
        "\n",
        "print(f'Outputs after training: {outputs}')"
      ],
      "metadata": {
        "colab": {
          "base_uri": "https://localhost:8080/"
        },
        "id": "VnKR3wLMwhqF",
        "outputId": "8463db2a-9eb1-4eb5-eaff-4b963c7a2bc1"
      },
      "execution_count": 12,
      "outputs": [
        {
          "output_type": "stream",
          "name": "stdout",
          "text": [
            "Synaptic weights after training: [[12.1923419 ]\n",
            " [-0.20426716]\n",
            " [-5.89221836]]\n",
            "Outputs after training: [[0.00275326]\n",
            " [0.99775287]\n",
            " [0.99816728]\n",
            " [0.00224572]]\n"
          ]
        }
      ]
    }
  ]
}